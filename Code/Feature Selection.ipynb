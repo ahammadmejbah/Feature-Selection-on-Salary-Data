{
 "cells": [
  {
   "cell_type": "markdown",
   "id": "af0150ca",
   "metadata": {},
   "source": [
    "## Feature Selection"
   ]
  },
  {
   "cell_type": "markdown",
   "id": "e252d424",
   "metadata": {},
   "source": [
    "Feature selection is primarily focused on removing non-informative or redundant predictors from the model. When you are done creating hundreds of thousands of features, it’s time to select a few of them. Well, we should never create hundreds of thousands of useless features. Having too many features pose a problem well known as the curse of dimensionality. If you have a lot of features, you must also have a lot of training samples to capture all the features."
   ]
  },
  {
   "cell_type": "markdown",
   "id": "94c64af4",
   "metadata": {},
   "source": [
    "### Step for forwarding Selection\n",
    "- Start with the empty feature set\n",
    "- Try the remaining feature\n",
    "- Estimate classification/regression error for adding each feature in the model\n",
    "- Select a feature that gives maximum improvement\n",
    "- Stop when there is no significant improvement"
   ]
  },
  {
   "cell_type": "markdown",
   "id": "441d64a2",
   "metadata": {},
   "source": [
    "### Step for Backward Selection\n",
    "\n",
    "- Start with a complete feature set\n",
    "- Try the remaining feature\n",
    "- Estimate classification/regression error for adding each feature in the model\n",
    "- Drop feature that gives less improvement\n",
    "- Stop when there is no significant improvement"
   ]
  },
  {
   "cell_type": "markdown",
   "id": "80d1295f",
   "metadata": {},
   "source": [
    "### Methods/Technique\n",
    "\n",
    "#### Univariate\n",
    "\n",
    "- Pearson Correlation\n",
    "- F-score\n",
    "- Chi-square\n",
    "- Signal to noise ratio\n",
    "\n",
    "#### Multivariate\n",
    "\n",
    "- Compute 'w' on all features\n",
    "- Remove feature with smallest 'w'\n",
    "- Recompute 'w' on reduced data"
   ]
  },
  {
   "cell_type": "code",
   "execution_count": 1,
   "id": "f0ab2e08",
   "metadata": {},
   "outputs": [],
   "source": [
    "import pandas as pd"
   ]
  },
  {
   "cell_type": "code",
   "execution_count": 2,
   "id": "7564d3ae",
   "metadata": {},
   "outputs": [
    {
     "data": {
      "text/html": [
       "<div>\n",
       "<style scoped>\n",
       "    .dataframe tbody tr th:only-of-type {\n",
       "        vertical-align: middle;\n",
       "    }\n",
       "\n",
       "    .dataframe tbody tr th {\n",
       "        vertical-align: top;\n",
       "    }\n",
       "\n",
       "    .dataframe thead th {\n",
       "        text-align: right;\n",
       "    }\n",
       "</style>\n",
       "<table border=\"1\" class=\"dataframe\">\n",
       "  <thead>\n",
       "    <tr style=\"text-align: right;\">\n",
       "      <th></th>\n",
       "      <th>age</th>\n",
       "      <th>workclass</th>\n",
       "      <th>fnlwgt</th>\n",
       "      <th>education</th>\n",
       "      <th>education-num</th>\n",
       "      <th>marital-status</th>\n",
       "      <th>occupation</th>\n",
       "      <th>relationship</th>\n",
       "      <th>race</th>\n",
       "      <th>sex</th>\n",
       "      <th>capital-gain</th>\n",
       "      <th>capital-loss</th>\n",
       "      <th>hours-per-week</th>\n",
       "      <th>native-country</th>\n",
       "      <th>salary</th>\n",
       "    </tr>\n",
       "  </thead>\n",
       "  <tbody>\n",
       "    <tr>\n",
       "      <th>6758</th>\n",
       "      <td>47</td>\n",
       "      <td>Self-emp-not-inc</td>\n",
       "      <td>121124</td>\n",
       "      <td>Bachelors</td>\n",
       "      <td>13</td>\n",
       "      <td>Married-civ-spouse</td>\n",
       "      <td>Sales</td>\n",
       "      <td>Husband</td>\n",
       "      <td>White</td>\n",
       "      <td>Male</td>\n",
       "      <td>0</td>\n",
       "      <td>0</td>\n",
       "      <td>40</td>\n",
       "      <td>United-States</td>\n",
       "      <td>&gt;50K</td>\n",
       "    </tr>\n",
       "    <tr>\n",
       "      <th>2448</th>\n",
       "      <td>29</td>\n",
       "      <td>Local-gov</td>\n",
       "      <td>251854</td>\n",
       "      <td>HS-grad</td>\n",
       "      <td>9</td>\n",
       "      <td>Never-married</td>\n",
       "      <td>Protective-serv</td>\n",
       "      <td>Not-in-family</td>\n",
       "      <td>Black</td>\n",
       "      <td>Female</td>\n",
       "      <td>0</td>\n",
       "      <td>0</td>\n",
       "      <td>40</td>\n",
       "      <td>United-States</td>\n",
       "      <td>&lt;=50K</td>\n",
       "    </tr>\n",
       "    <tr>\n",
       "      <th>29546</th>\n",
       "      <td>25</td>\n",
       "      <td>Private</td>\n",
       "      <td>231638</td>\n",
       "      <td>Some-college</td>\n",
       "      <td>10</td>\n",
       "      <td>Never-married</td>\n",
       "      <td>Tech-support</td>\n",
       "      <td>Unmarried</td>\n",
       "      <td>White</td>\n",
       "      <td>Female</td>\n",
       "      <td>0</td>\n",
       "      <td>0</td>\n",
       "      <td>24</td>\n",
       "      <td>United-States</td>\n",
       "      <td>&lt;=50K</td>\n",
       "    </tr>\n",
       "    <tr>\n",
       "      <th>7746</th>\n",
       "      <td>54</td>\n",
       "      <td>?</td>\n",
       "      <td>196975</td>\n",
       "      <td>HS-grad</td>\n",
       "      <td>9</td>\n",
       "      <td>Divorced</td>\n",
       "      <td>?</td>\n",
       "      <td>Other-relative</td>\n",
       "      <td>White</td>\n",
       "      <td>Male</td>\n",
       "      <td>0</td>\n",
       "      <td>0</td>\n",
       "      <td>45</td>\n",
       "      <td>United-States</td>\n",
       "      <td>&lt;=50K</td>\n",
       "    </tr>\n",
       "    <tr>\n",
       "      <th>20219</th>\n",
       "      <td>24</td>\n",
       "      <td>Private</td>\n",
       "      <td>35603</td>\n",
       "      <td>Some-college</td>\n",
       "      <td>10</td>\n",
       "      <td>Divorced</td>\n",
       "      <td>Other-service</td>\n",
       "      <td>Not-in-family</td>\n",
       "      <td>Black</td>\n",
       "      <td>Male</td>\n",
       "      <td>0</td>\n",
       "      <td>0</td>\n",
       "      <td>40</td>\n",
       "      <td>United-States</td>\n",
       "      <td>&lt;=50K</td>\n",
       "    </tr>\n",
       "    <tr>\n",
       "      <th>14522</th>\n",
       "      <td>39</td>\n",
       "      <td>Private</td>\n",
       "      <td>32650</td>\n",
       "      <td>Assoc-voc</td>\n",
       "      <td>11</td>\n",
       "      <td>Never-married</td>\n",
       "      <td>Farming-fishing</td>\n",
       "      <td>Not-in-family</td>\n",
       "      <td>White</td>\n",
       "      <td>Male</td>\n",
       "      <td>0</td>\n",
       "      <td>0</td>\n",
       "      <td>60</td>\n",
       "      <td>United-States</td>\n",
       "      <td>&lt;=50K</td>\n",
       "    </tr>\n",
       "    <tr>\n",
       "      <th>26670</th>\n",
       "      <td>34</td>\n",
       "      <td>Private</td>\n",
       "      <td>174789</td>\n",
       "      <td>Bachelors</td>\n",
       "      <td>13</td>\n",
       "      <td>Never-married</td>\n",
       "      <td>Other-service</td>\n",
       "      <td>Not-in-family</td>\n",
       "      <td>White</td>\n",
       "      <td>Male</td>\n",
       "      <td>0</td>\n",
       "      <td>2001</td>\n",
       "      <td>40</td>\n",
       "      <td>United-States</td>\n",
       "      <td>&lt;=50K</td>\n",
       "    </tr>\n",
       "    <tr>\n",
       "      <th>26772</th>\n",
       "      <td>28</td>\n",
       "      <td>Private</td>\n",
       "      <td>412149</td>\n",
       "      <td>10th</td>\n",
       "      <td>6</td>\n",
       "      <td>Never-married</td>\n",
       "      <td>Farming-fishing</td>\n",
       "      <td>Other-relative</td>\n",
       "      <td>White</td>\n",
       "      <td>Male</td>\n",
       "      <td>0</td>\n",
       "      <td>0</td>\n",
       "      <td>35</td>\n",
       "      <td>Mexico</td>\n",
       "      <td>&lt;=50K</td>\n",
       "    </tr>\n",
       "    <tr>\n",
       "      <th>6772</th>\n",
       "      <td>28</td>\n",
       "      <td>Private</td>\n",
       "      <td>192591</td>\n",
       "      <td>Bachelors</td>\n",
       "      <td>13</td>\n",
       "      <td>Never-married</td>\n",
       "      <td>Adm-clerical</td>\n",
       "      <td>Not-in-family</td>\n",
       "      <td>White</td>\n",
       "      <td>Female</td>\n",
       "      <td>0</td>\n",
       "      <td>0</td>\n",
       "      <td>45</td>\n",
       "      <td>United-States</td>\n",
       "      <td>&lt;=50K</td>\n",
       "    </tr>\n",
       "    <tr>\n",
       "      <th>4561</th>\n",
       "      <td>32</td>\n",
       "      <td>Local-gov</td>\n",
       "      <td>49325</td>\n",
       "      <td>7th-8th</td>\n",
       "      <td>4</td>\n",
       "      <td>Married-civ-spouse</td>\n",
       "      <td>Other-service</td>\n",
       "      <td>Husband</td>\n",
       "      <td>White</td>\n",
       "      <td>Male</td>\n",
       "      <td>0</td>\n",
       "      <td>0</td>\n",
       "      <td>40</td>\n",
       "      <td>United-States</td>\n",
       "      <td>&lt;=50K</td>\n",
       "    </tr>\n",
       "  </tbody>\n",
       "</table>\n",
       "</div>"
      ],
      "text/plain": [
       "       age          workclass  fnlwgt      education  education-num  \\\n",
       "6758    47   Self-emp-not-inc  121124      Bachelors             13   \n",
       "2448    29          Local-gov  251854        HS-grad              9   \n",
       "29546   25            Private  231638   Some-college             10   \n",
       "7746    54                  ?  196975        HS-grad              9   \n",
       "20219   24            Private   35603   Some-college             10   \n",
       "14522   39            Private   32650      Assoc-voc             11   \n",
       "26670   34            Private  174789      Bachelors             13   \n",
       "26772   28            Private  412149           10th              6   \n",
       "6772    28            Private  192591      Bachelors             13   \n",
       "4561    32          Local-gov   49325        7th-8th              4   \n",
       "\n",
       "            marital-status        occupation     relationship    race  \\\n",
       "6758    Married-civ-spouse             Sales          Husband   White   \n",
       "2448         Never-married   Protective-serv    Not-in-family   Black   \n",
       "29546        Never-married      Tech-support        Unmarried   White   \n",
       "7746              Divorced                 ?   Other-relative   White   \n",
       "20219             Divorced     Other-service    Not-in-family   Black   \n",
       "14522        Never-married   Farming-fishing    Not-in-family   White   \n",
       "26670        Never-married     Other-service    Not-in-family   White   \n",
       "26772        Never-married   Farming-fishing   Other-relative   White   \n",
       "6772         Never-married      Adm-clerical    Not-in-family   White   \n",
       "4561    Married-civ-spouse     Other-service          Husband   White   \n",
       "\n",
       "           sex  capital-gain  capital-loss  hours-per-week  native-country  \\\n",
       "6758      Male             0             0              40   United-States   \n",
       "2448    Female             0             0              40   United-States   \n",
       "29546   Female             0             0              24   United-States   \n",
       "7746      Male             0             0              45   United-States   \n",
       "20219     Male             0             0              40   United-States   \n",
       "14522     Male             0             0              60   United-States   \n",
       "26670     Male             0          2001              40   United-States   \n",
       "26772     Male             0             0              35          Mexico   \n",
       "6772    Female             0             0              45   United-States   \n",
       "4561      Male             0             0              40   United-States   \n",
       "\n",
       "       salary  \n",
       "6758     >50K  \n",
       "2448    <=50K  \n",
       "29546   <=50K  \n",
       "7746    <=50K  \n",
       "20219   <=50K  \n",
       "14522   <=50K  \n",
       "26670   <=50K  \n",
       "26772   <=50K  \n",
       "6772    <=50K  \n",
       "4561    <=50K  "
      ]
     },
     "execution_count": 2,
     "metadata": {},
     "output_type": "execute_result"
    }
   ],
   "source": [
    "data = pd.read_csv(\"salary.csv\")\n",
    "data.sample(10)"
   ]
  },
  {
   "cell_type": "code",
   "execution_count": 3,
   "id": "936d17bd",
   "metadata": {},
   "outputs": [
    {
     "data": {
      "text/plain": [
       "Index(['age', 'workclass', 'fnlwgt', 'education', 'education-num',\n",
       "       'marital-status', 'occupation', 'relationship', 'race', 'sex',\n",
       "       'capital-gain', 'capital-loss', 'hours-per-week', 'native-country',\n",
       "       'salary'],\n",
       "      dtype='object')"
      ]
     },
     "execution_count": 3,
     "metadata": {},
     "output_type": "execute_result"
    }
   ],
   "source": [
    "data.columns"
   ]
  },
  {
   "cell_type": "code",
   "execution_count": 4,
   "id": "ac9cffaa",
   "metadata": {},
   "outputs": [
    {
     "data": {
      "text/plain": [
       "age               0\n",
       "workclass         0\n",
       "fnlwgt            0\n",
       "education         0\n",
       "education-num     0\n",
       "marital-status    0\n",
       "occupation        0\n",
       "relationship      0\n",
       "race              0\n",
       "sex               0\n",
       "capital-gain      0\n",
       "capital-loss      0\n",
       "hours-per-week    0\n",
       "native-country    0\n",
       "salary            0\n",
       "dtype: int64"
      ]
     },
     "execution_count": 4,
     "metadata": {},
     "output_type": "execute_result"
    }
   ],
   "source": [
    "data.isnull().sum()"
   ]
  },
  {
   "cell_type": "code",
   "execution_count": 5,
   "id": "32c8dee3",
   "metadata": {},
   "outputs": [
    {
     "name": "stdout",
     "output_type": "stream",
     "text": [
      "<class 'pandas.core.frame.DataFrame'>\n",
      "RangeIndex: 32561 entries, 0 to 32560\n",
      "Data columns (total 15 columns):\n",
      " #   Column          Non-Null Count  Dtype \n",
      "---  ------          --------------  ----- \n",
      " 0   age             32561 non-null  int64 \n",
      " 1   workclass       32561 non-null  object\n",
      " 2   fnlwgt          32561 non-null  int64 \n",
      " 3   education       32561 non-null  object\n",
      " 4   education-num   32561 non-null  int64 \n",
      " 5   marital-status  32561 non-null  object\n",
      " 6   occupation      32561 non-null  object\n",
      " 7   relationship    32561 non-null  object\n",
      " 8   race            32561 non-null  object\n",
      " 9   sex             32561 non-null  object\n",
      " 10  capital-gain    32561 non-null  int64 \n",
      " 11  capital-loss    32561 non-null  int64 \n",
      " 12  hours-per-week  32561 non-null  int64 \n",
      " 13  native-country  32561 non-null  object\n",
      " 14  salary          32561 non-null  object\n",
      "dtypes: int64(6), object(9)\n",
      "memory usage: 3.7+ MB\n"
     ]
    }
   ],
   "source": [
    "data.info()"
   ]
  },
  {
   "cell_type": "markdown",
   "id": "b3338ca7",
   "metadata": {},
   "source": [
    "### Data Preprocessing"
   ]
  },
  {
   "cell_type": "code",
   "execution_count": 6,
   "id": "806155fc",
   "metadata": {},
   "outputs": [],
   "source": [
    "from sklearn.preprocessing import LabelEncoder\n",
    "from sklearn.preprocessing import MinMaxScaler"
   ]
  },
  {
   "cell_type": "code",
   "execution_count": 7,
   "id": "e01c736d",
   "metadata": {},
   "outputs": [
    {
     "data": {
      "text/plain": [
       "age                  73\n",
       "workclass             9\n",
       "fnlwgt            21648\n",
       "education            16\n",
       "education-num        16\n",
       "marital-status        7\n",
       "occupation           15\n",
       "relationship          6\n",
       "race                  5\n",
       "sex                   2\n",
       "capital-gain        119\n",
       "capital-loss         92\n",
       "hours-per-week       94\n",
       "native-country       42\n",
       "salary                2\n",
       "dtype: int64"
      ]
     },
     "execution_count": 7,
     "metadata": {},
     "output_type": "execute_result"
    }
   ],
   "source": [
    "data.nunique()"
   ]
  },
  {
   "cell_type": "code",
   "execution_count": 8,
   "id": "4cd266dd",
   "metadata": {},
   "outputs": [],
   "source": [
    "categorial_data = []\n",
    "numerical_data = []\n",
    "for col in data.columns:\n",
    "    if data[col].dtype == \"O\":\n",
    "        categorial_data.append(col)\n",
    "    else:\n",
    "        numerical_data.append(col)"
   ]
  },
  {
   "cell_type": "code",
   "execution_count": 9,
   "id": "537dc5f0",
   "metadata": {},
   "outputs": [],
   "source": [
    "le = LabelEncoder()"
   ]
  },
  {
   "cell_type": "code",
   "execution_count": 10,
   "id": "085734aa",
   "metadata": {},
   "outputs": [],
   "source": [
    "for category in categorial_data:\n",
    "    data[category] = le.fit_transform(data[category])"
   ]
  },
  {
   "cell_type": "code",
   "execution_count": 11,
   "id": "3eed67f3",
   "metadata": {},
   "outputs": [
    {
     "data": {
      "text/html": [
       "<div>\n",
       "<style scoped>\n",
       "    .dataframe tbody tr th:only-of-type {\n",
       "        vertical-align: middle;\n",
       "    }\n",
       "\n",
       "    .dataframe tbody tr th {\n",
       "        vertical-align: top;\n",
       "    }\n",
       "\n",
       "    .dataframe thead th {\n",
       "        text-align: right;\n",
       "    }\n",
       "</style>\n",
       "<table border=\"1\" class=\"dataframe\">\n",
       "  <thead>\n",
       "    <tr style=\"text-align: right;\">\n",
       "      <th></th>\n",
       "      <th>age</th>\n",
       "      <th>workclass</th>\n",
       "      <th>fnlwgt</th>\n",
       "      <th>education</th>\n",
       "      <th>education-num</th>\n",
       "      <th>marital-status</th>\n",
       "      <th>occupation</th>\n",
       "      <th>relationship</th>\n",
       "      <th>race</th>\n",
       "      <th>sex</th>\n",
       "      <th>capital-gain</th>\n",
       "      <th>capital-loss</th>\n",
       "      <th>hours-per-week</th>\n",
       "      <th>native-country</th>\n",
       "      <th>salary</th>\n",
       "    </tr>\n",
       "  </thead>\n",
       "  <tbody>\n",
       "    <tr>\n",
       "      <th>6908</th>\n",
       "      <td>35</td>\n",
       "      <td>4</td>\n",
       "      <td>108293</td>\n",
       "      <td>15</td>\n",
       "      <td>10</td>\n",
       "      <td>4</td>\n",
       "      <td>1</td>\n",
       "      <td>3</td>\n",
       "      <td>4</td>\n",
       "      <td>0</td>\n",
       "      <td>0</td>\n",
       "      <td>2205</td>\n",
       "      <td>40</td>\n",
       "      <td>39</td>\n",
       "      <td>0</td>\n",
       "    </tr>\n",
       "    <tr>\n",
       "      <th>24657</th>\n",
       "      <td>24</td>\n",
       "      <td>4</td>\n",
       "      <td>283092</td>\n",
       "      <td>1</td>\n",
       "      <td>7</td>\n",
       "      <td>4</td>\n",
       "      <td>3</td>\n",
       "      <td>1</td>\n",
       "      <td>2</td>\n",
       "      <td>1</td>\n",
       "      <td>0</td>\n",
       "      <td>0</td>\n",
       "      <td>35</td>\n",
       "      <td>23</td>\n",
       "      <td>0</td>\n",
       "    </tr>\n",
       "    <tr>\n",
       "      <th>4777</th>\n",
       "      <td>22</td>\n",
       "      <td>4</td>\n",
       "      <td>287988</td>\n",
       "      <td>15</td>\n",
       "      <td>10</td>\n",
       "      <td>4</td>\n",
       "      <td>12</td>\n",
       "      <td>1</td>\n",
       "      <td>4</td>\n",
       "      <td>1</td>\n",
       "      <td>0</td>\n",
       "      <td>0</td>\n",
       "      <td>20</td>\n",
       "      <td>39</td>\n",
       "      <td>0</td>\n",
       "    </tr>\n",
       "  </tbody>\n",
       "</table>\n",
       "</div>"
      ],
      "text/plain": [
       "       age  workclass  fnlwgt  education  education-num  marital-status  \\\n",
       "6908    35          4  108293         15             10               4   \n",
       "24657   24          4  283092          1              7               4   \n",
       "4777    22          4  287988         15             10               4   \n",
       "\n",
       "       occupation  relationship  race  sex  capital-gain  capital-loss  \\\n",
       "6908            1             3     4    0             0          2205   \n",
       "24657           3             1     2    1             0             0   \n",
       "4777           12             1     4    1             0             0   \n",
       "\n",
       "       hours-per-week  native-country  salary  \n",
       "6908               40              39       0  \n",
       "24657              35              23       0  \n",
       "4777               20              39       0  "
      ]
     },
     "execution_count": 11,
     "metadata": {},
     "output_type": "execute_result"
    }
   ],
   "source": [
    "data.sample(3)"
   ]
  },
  {
   "cell_type": "code",
   "execution_count": 12,
   "id": "4283256b",
   "metadata": {},
   "outputs": [
    {
     "name": "stdout",
     "output_type": "stream",
     "text": [
      "<class 'pandas.core.frame.DataFrame'>\n",
      "RangeIndex: 32561 entries, 0 to 32560\n",
      "Data columns (total 15 columns):\n",
      " #   Column          Non-Null Count  Dtype\n",
      "---  ------          --------------  -----\n",
      " 0   age             32561 non-null  int64\n",
      " 1   workclass       32561 non-null  int32\n",
      " 2   fnlwgt          32561 non-null  int64\n",
      " 3   education       32561 non-null  int32\n",
      " 4   education-num   32561 non-null  int64\n",
      " 5   marital-status  32561 non-null  int32\n",
      " 6   occupation      32561 non-null  int32\n",
      " 7   relationship    32561 non-null  int32\n",
      " 8   race            32561 non-null  int32\n",
      " 9   sex             32561 non-null  int32\n",
      " 10  capital-gain    32561 non-null  int64\n",
      " 11  capital-loss    32561 non-null  int64\n",
      " 12  hours-per-week  32561 non-null  int64\n",
      " 13  native-country  32561 non-null  int32\n",
      " 14  salary          32561 non-null  int32\n",
      "dtypes: int32(9), int64(6)\n",
      "memory usage: 2.6 MB\n"
     ]
    }
   ],
   "source": [
    "data.info()"
   ]
  },
  {
   "cell_type": "code",
   "execution_count": 13,
   "id": "2386c40c",
   "metadata": {},
   "outputs": [],
   "source": [
    "from sklearn.model_selection import train_test_split"
   ]
  },
  {
   "cell_type": "code",
   "execution_count": 14,
   "id": "68290497",
   "metadata": {},
   "outputs": [],
   "source": [
    "X = data.drop('salary',axis=1)\n",
    "y = data.salary"
   ]
  },
  {
   "cell_type": "code",
   "execution_count": 15,
   "id": "e73f5128",
   "metadata": {},
   "outputs": [],
   "source": [
    "minmax = MinMaxScaler()\n",
    "X = minmax.fit_transform(X)"
   ]
  },
  {
   "cell_type": "markdown",
   "id": "74dfbe9c",
   "metadata": {},
   "source": [
    "## Feature Selection Methods"
   ]
  },
  {
   "cell_type": "code",
   "execution_count": 16,
   "id": "d830e2df",
   "metadata": {},
   "outputs": [],
   "source": [
    "def model_train(X,y):\n",
    "    from sklearn.linear_model import LogisticRegression\n",
    "    x_train,x_test,y_train,y_test = train_test_split(X,y,train_size=0.78,random_state=42)\n",
    "    model = LogisticRegression()\n",
    "    model = model.fit(X,y)\n",
    "    return model,x_test,y_test"
   ]
  },
  {
   "cell_type": "code",
   "execution_count": 17,
   "id": "ca1d320b",
   "metadata": {},
   "outputs": [],
   "source": [
    "def scoring(y_actual,y_pred):\n",
    "    from sklearn.metrics import accuracy_score,roc_auc_score,precision_score\n",
    "    print(\"Accuracy:\",accuracy_score(y_pred=y_pred,y_true=y_actual))\n",
    "    print(\"Precision:\",precision_score(y_pred=y_pred,y_true=y_actual))\n",
    "    print(\"ROC AUC Score:\",roc_auc_score(y_true=y_actual,y_score=y_pred))"
   ]
  },
  {
   "cell_type": "code",
   "execution_count": 18,
   "id": "2aaf06e0",
   "metadata": {},
   "outputs": [],
   "source": [
    "from sklearn.feature_selection import chi2,mutual_info_classif,f_classif,VarianceThreshold"
   ]
  },
  {
   "cell_type": "code",
   "execution_count": 19,
   "id": "6a412247",
   "metadata": {},
   "outputs": [],
   "source": [
    "from sklearn.feature_selection import SelectKBest,SelectPercentile"
   ]
  },
  {
   "cell_type": "markdown",
   "id": "b9f0c417",
   "metadata": {},
   "source": [
    "### 1. Variance Threshold"
   ]
  },
  {
   "cell_type": "code",
   "execution_count": 20,
   "id": "71fd9066",
   "metadata": {},
   "outputs": [],
   "source": [
    "varThresh = VarianceThreshold()\n",
    "tranform_data = varThresh.fit_transform(X)"
   ]
  },
  {
   "cell_type": "code",
   "execution_count": 21,
   "id": "a47b977f",
   "metadata": {},
   "outputs": [
    {
     "data": {
      "text/plain": [
       "(32561, 14)"
      ]
     },
     "execution_count": 21,
     "metadata": {},
     "output_type": "execute_result"
    }
   ],
   "source": [
    "tranform_data.shape"
   ]
  },
  {
   "cell_type": "code",
   "execution_count": 22,
   "id": "39a708eb",
   "metadata": {},
   "outputs": [],
   "source": [
    "model,x_test,y_test = model_train(tranform_data,y)"
   ]
  },
  {
   "cell_type": "code",
   "execution_count": 23,
   "id": "4e6fc213",
   "metadata": {},
   "outputs": [],
   "source": [
    "predict = model.predict(x_test)"
   ]
  },
  {
   "cell_type": "code",
   "execution_count": 24,
   "id": "9158f15f",
   "metadata": {},
   "outputs": [
    {
     "name": "stdout",
     "output_type": "stream",
     "text": [
      "Accuracy: 0.8234226689000559\n",
      "Precision: 0.7129455909943715\n",
      "ROC AUC Score: 0.6929595815364497\n"
     ]
    }
   ],
   "source": [
    "scoring(y_test,predict)"
   ]
  },
  {
   "cell_type": "markdown",
   "id": "a8dd6c08",
   "metadata": {},
   "source": [
    "### 2. Chi-square"
   ]
  },
  {
   "cell_type": "code",
   "execution_count": 25,
   "id": "6b0bef9d",
   "metadata": {},
   "outputs": [],
   "source": [
    "selectK = SelectKBest(chi2,k=5) \n",
    "#k is hyperparameter should be equal more than 0 and less than n_features in the dataset"
   ]
  },
  {
   "cell_type": "code",
   "execution_count": 26,
   "id": "7968d8f9",
   "metadata": {},
   "outputs": [],
   "source": [
    "#in our case we have 14 features"
   ]
  },
  {
   "cell_type": "code",
   "execution_count": 27,
   "id": "b87336a6",
   "metadata": {},
   "outputs": [],
   "source": [
    "selectK.fit(X,y)\n",
    "x_trans = selectK.transform(X)"
   ]
  },
  {
   "cell_type": "code",
   "execution_count": 28,
   "id": "c2c5a3a8",
   "metadata": {},
   "outputs": [],
   "source": [
    "model2,x_test,y_test = model_train(x_trans,y)"
   ]
  },
  {
   "cell_type": "code",
   "execution_count": 29,
   "id": "b29be01d",
   "metadata": {},
   "outputs": [],
   "source": [
    "predict2 = model2.predict(x_test)"
   ]
  },
  {
   "cell_type": "code",
   "execution_count": 30,
   "id": "b03c5886",
   "metadata": {},
   "outputs": [
    {
     "name": "stdout",
     "output_type": "stream",
     "text": [
      "Accuracy: 0.8055555555555556\n",
      "Precision: 0.7595541401273885\n",
      "ROC AUC Score: 0.624877523449632\n"
     ]
    }
   ],
   "source": [
    "scoring(y_test,predict2)"
   ]
  },
  {
   "cell_type": "markdown",
   "id": "a167ce78",
   "metadata": {},
   "source": [
    "### 3. F score for classification"
   ]
  },
  {
   "cell_type": "code",
   "execution_count": 31,
   "id": "484a40ab",
   "metadata": {},
   "outputs": [],
   "source": [
    "f_score_method = SelectKBest(f_classif,k=6) "
   ]
  },
  {
   "cell_type": "code",
   "execution_count": 32,
   "id": "bf3c1c09",
   "metadata": {},
   "outputs": [],
   "source": [
    "f_score_method.fit(X,y)\n",
    "x_f_score = f_score_method.transform(X)"
   ]
  },
  {
   "cell_type": "code",
   "execution_count": 33,
   "id": "2aa11f3e",
   "metadata": {},
   "outputs": [],
   "source": [
    "model3,x_test,y_test = model_train(x_f_score,y)"
   ]
  },
  {
   "cell_type": "code",
   "execution_count": 34,
   "id": "0e7e36a4",
   "metadata": {},
   "outputs": [],
   "source": [
    "predict3 = model3.predict(x_test)"
   ]
  },
  {
   "cell_type": "code",
   "execution_count": 35,
   "id": "48dc5924",
   "metadata": {},
   "outputs": [
    {
     "name": "stdout",
     "output_type": "stream",
     "text": [
      "Accuracy: 0.8218872138470128\n",
      "Precision: 0.7152575315840622\n",
      "ROC AUC Score: 0.6871725344833388\n"
     ]
    }
   ],
   "source": [
    "scoring(y_test,predict3)"
   ]
  },
  {
   "cell_type": "markdown",
   "id": "816df70c",
   "metadata": {},
   "source": [
    "### 4. Mutual Information for classification"
   ]
  },
  {
   "cell_type": "code",
   "execution_count": 36,
   "id": "b80718b3",
   "metadata": {},
   "outputs": [],
   "source": [
    "mutu_method = SelectKBest(mutual_info_classif,k=8) "
   ]
  },
  {
   "cell_type": "code",
   "execution_count": 37,
   "id": "d00f8c41",
   "metadata": {},
   "outputs": [],
   "source": [
    "mutu_method.fit(X,y)\n",
    "x_mut = mutu_method.transform(X)"
   ]
  },
  {
   "cell_type": "code",
   "execution_count": 38,
   "id": "4cf1200d",
   "metadata": {},
   "outputs": [],
   "source": [
    "model4,x_test,y_test = model_train(x_mut,y)"
   ]
  },
  {
   "cell_type": "code",
   "execution_count": 39,
   "id": "cdd8d7f9",
   "metadata": {},
   "outputs": [],
   "source": [
    "predict4 = model4.predict(x_test)"
   ]
  },
  {
   "cell_type": "code",
   "execution_count": 40,
   "id": "b69a0187",
   "metadata": {},
   "outputs": [
    {
     "name": "stdout",
     "output_type": "stream",
     "text": [
      "Accuracy: 0.818676716917923\n",
      "Precision: 0.7034883720930233\n",
      "ROC AUC Score: 0.6830701109139948\n"
     ]
    }
   ],
   "source": [
    "scoring(y_test,predict4)"
   ]
  }
 ],
 "metadata": {
  "kernelspec": {
   "display_name": "Python 3 (ipykernel)",
   "language": "python",
   "name": "python3"
  },
  "language_info": {
   "codemirror_mode": {
    "name": "ipython",
    "version": 3
   },
   "file_extension": ".py",
   "mimetype": "text/x-python",
   "name": "python",
   "nbconvert_exporter": "python",
   "pygments_lexer": "ipython3",
   "version": "3.7.13"
  }
 },
 "nbformat": 4,
 "nbformat_minor": 5
}
